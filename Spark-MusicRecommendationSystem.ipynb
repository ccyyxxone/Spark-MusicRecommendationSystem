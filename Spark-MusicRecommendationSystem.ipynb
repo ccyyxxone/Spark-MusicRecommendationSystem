{
 "cells": [
  {
   "cell_type": "markdown",
   "metadata": {},
   "source": [
    "# Spark Assignment - Recommender System"
   ]
  },
  {
   "cell_type": "markdown",
   "metadata": {},
   "source": [
    "Yixing Chen"
   ]
  },
  {
   "cell_type": "code",
   "execution_count": 1,
   "metadata": {
    "collapsed": false
   },
   "outputs": [
    {
     "data": {
      "text/plain": [
       "<pyspark.context.SparkContext at 0xb20b5c8c>"
      ]
     },
     "execution_count": 1,
     "metadata": {},
     "output_type": "execute_result"
    }
   ],
   "source": [
    "sc"
   ]
  },
  {
   "cell_type": "markdown",
   "metadata": {},
   "source": [
    "# Package"
   ]
  },
  {
   "cell_type": "code",
   "execution_count": 2,
   "metadata": {
    "collapsed": false,
    "scrolled": false
   },
   "outputs": [],
   "source": [
    "from pyspark.mllib.recommendation import *\n",
    "import random"
   ]
  },
  {
   "cell_type": "markdown",
   "metadata": {},
   "source": [
    "# Read Data"
   ]
  },
  {
   "cell_type": "code",
   "execution_count": 3,
   "metadata": {
    "collapsed": false
   },
   "outputs": [],
   "source": [
    "def canonical(a):\n",
    "    if aliasDict.has_key(a[1]):\n",
    "        return (a[0], aliasDict.get(a[1]), a[2])\n",
    "    else:\n",
    "        return a\n",
    "\n",
    "#path of txt files\n",
    "path_AD = \"/home/vagrant/profiledata_06-May-2005/artist_data.txt\"\n",
    "path_AA = \"/home/vagrant/profiledata_06-May-2005/artist_alias.txt\"\n",
    "path_UAD = \"/home/vagrant/profiledata_06-May-2005/user_artist_data.txt\"\n",
    "\n",
    "#read txt files\n",
    "artistAlias = sc.textFile(path_AA)\n",
    "aliasDict = artistAlias.map(lambda x: (x.split(\"\\t\")[0], (x.split(\"\\t\")[1]))).collectAsMap()\n",
    "\n",
    "artistData = sc.textFile(path_AD)\n",
    "\n",
    "userArtistData = sc.textFile(path_UAD).map(lambda x : (x.split(\" \")[0], x.split(\" \")[1], x.split(\" \")[2]))\n",
    "userArtistData = userArtistData.map(canonical)\n"
   ]
  },
  {
   "cell_type": "markdown",
   "metadata": {},
   "source": [
    "# Train Model"
   ]
  },
  {
   "cell_type": "code",
   "execution_count": 4,
   "metadata": {
    "collapsed": false
   },
   "outputs": [],
   "source": [
    "#RandomSplit the data, so everytime the result may be a little bit different\n",
    "userArtistData = userArtistData.map(lambda x: (int(x[0]), int(x[1]), int(x[2])))\n",
    "trainData, validationData, testData = userArtistData.randomSplit([0.4, 0.4, 0.2], 13)\n",
    "\n",
    "#Use the trainDate to train the model, parameters are as same as ch3\n",
    "#This step will take 10~15 minutes\n",
    "Model = ALS.trainImplicit(trainData, 10, 5, 0.01)"
   ]
  },
  {
   "cell_type": "markdown",
   "metadata": {},
   "source": [
    "# Recommend 10 artists"
   ]
  },
  {
   "cell_type": "code",
   "execution_count": 7,
   "metadata": {
    "collapsed": false
   },
   "outputs": [
    {
     "name": "stdout",
     "output_type": "stream",
     "text": [
      "930\n",
      "2814\n",
      "1007614\n",
      "250\n",
      "1001819\n",
      "4605\n",
      "1037970\n",
      "1019931\n",
      "1784\n",
      "1854\n",
      "\n",
      "Eminem\n",
      "50 Cent\n",
      "Jay-Z\n",
      "Outkast\n",
      "2Pac\n",
      "Snoop Dogg\n",
      "Kanye West\n",
      "Usher\n",
      "Black Eyed Peas\n",
      "Linkin Park\n"
     ]
    }
   ],
   "source": [
    "#Input UserId here\n",
    "UserId = 2093760\n",
    "\n",
    "#Recommend 10 artists \n",
    "recommendations = list(Model.call(\"recommendProducts\", UserId, 10))\n",
    "\n",
    "#Put 10 artists IDs into a list\n",
    "Sequence = []\n",
    "for i in range(10):\n",
    "    print recommendations[i].product  #print numbers\n",
    "    Sequence.append(str(recommendations[i].product))\n",
    "Ans = ['0' for i in range(10)]\n",
    "print ''\n",
    "\n",
    "#Find the corresponding name of artists\n",
    "f = open(path_AD)\n",
    "\n",
    "for line in f:\n",
    "    line1 = line.strip()\n",
    "    a = line.split(\"\\t\")\n",
    "    if a[0] in Sequence:\n",
    "        Ans[Sequence.index(a[0])] = a[1]\n",
    "\n",
    "for i in Ans:\n",
    "    ans = i.strip()\n",
    "    print ans   #print names\n"
   ]
  },
  {
   "cell_type": "code",
   "execution_count": null,
   "metadata": {
    "collapsed": true
   },
   "outputs": [],
   "source": []
  }
 ],
 "metadata": {
  "kernelspec": {
   "display_name": "Python 2",
   "language": "python",
   "name": "python2"
  },
  "language_info": {
   "codemirror_mode": {
    "name": "ipython",
    "version": 2
   },
   "file_extension": ".py",
   "mimetype": "text/x-python",
   "name": "python",
   "nbconvert_exporter": "python",
   "pygments_lexer": "ipython2",
   "version": "2.7.6"
  }
 },
 "nbformat": 4,
 "nbformat_minor": 0
}
